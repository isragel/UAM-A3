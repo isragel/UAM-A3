{
  "nbformat": 4,
  "nbformat_minor": 0,
  "metadata": {
    "colab": {
      "provenance": [],
      "authorship_tag": "ABX9TyPRilCEnbbIw5AnJV4cYchS",
      "include_colab_link": true
    },
    "kernelspec": {
      "name": "python3",
      "display_name": "Python 3"
    },
    "language_info": {
      "name": "python"
    }
  },
  "cells": [
    {
      "cell_type": "markdown",
      "metadata": {
        "id": "view-in-github",
        "colab_type": "text"
      },
      "source": [
        "<a href=\"https://colab.research.google.com/github/isragel/UAM-A3/blob/main/Media.ipynb\" target=\"_parent\"><img src=\"https://colab.research.google.com/assets/colab-badge.svg\" alt=\"Open In Colab\"/></a>"
      ]
    },
    {
      "cell_type": "code",
      "execution_count": null,
      "metadata": {
        "id": "juSVLZDwfnbX"
      },
      "outputs": [],
      "source": [
        "print(\"Cálculo da N1, e Média final\")\n",
        "nota=0\n",
        "n1=0\n",
        "for i in range(4):\n",
        "  nota=float(input(\"Digite a nota em %: \"))\n",
        "  n1=n1+nota\n",
        "print(\"Media da N1: \", n1/4)\n",
        "n2=float(input(\"Digite a nota da N2 em %: \"))\n",
        "\n",
        "notafinal=(n1/4)*0.4+n2*0.6\n",
        "if notafinal>=60:\n",
        "  print(\"Nota final:\", notafinal)\n",
        "  print(\"Nota suficiente para aprovação!\")\n",
        "else:\n",
        "  print(\"Nota insuficiente para aprovação\")\n",
        "\n",
        "\n",
        "\n"
      ]
    },
    {
      "cell_type": "code",
      "source": [],
      "metadata": {
        "id": "WNBwHvUIg709"
      },
      "execution_count": null,
      "outputs": []
    }
  ]
}